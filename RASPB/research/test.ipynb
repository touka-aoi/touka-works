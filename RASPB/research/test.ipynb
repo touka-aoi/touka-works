{
 "cells": [
  {
   "cell_type": "markdown",
   "metadata": {},
   "source": [
    "### GPIO"
   ]
  },
  {
   "cell_type": "code",
   "execution_count": 1,
   "metadata": {},
   "outputs": [],
   "source": [
    "#インポート\n",
    "import RPi.GPIO as GPIO\n",
    "import dht11\n",
    "import redis\n",
    "\n",
    "class ght_inst:\n",
    "    def __init__(self, pin):\n",
    "        self.humid = -1\n",
    "        self.temp = -1\n",
    "        self.dht11 = dht11.DHT11(pin = 23)\n",
    "\n",
    "    def measure(self):\n",
    "        result = self.dht11.read()\n",
    "        self.humid = result.humidity\n",
    "        self.temp = result.temperature\n",
    "    \n",
    "    def call(self):\n",
    "        self.measure()\n",
    "        return {\"t\" : self.temp, \"h\" : self.humid}\n"
   ]
  },
  {
   "cell_type": "code",
   "execution_count": 2,
   "metadata": {},
   "outputs": [],
   "source": [
    "# initialize GPIO\n",
    "GPIO.setwarnings(False)\n",
    "GPIO.setmode(GPIO.BCM)\n",
    "GPIO.cleanup()"
   ]
  },
  {
   "cell_type": "code",
   "execution_count": 9,
   "metadata": {},
   "outputs": [
    {
     "data": {
      "text/plain": [
       "{'t': 29.7, 'h': 58.0}"
      ]
     },
     "execution_count": 9,
     "metadata": {},
     "output_type": "execute_result"
    }
   ],
   "source": [
    "ght = ght_inst(23)\n",
    "ght.call()"
   ]
  },
  {
   "cell_type": "markdown",
   "metadata": {},
   "source": [
    "### REDIS"
   ]
  },
  {
   "cell_type": "code",
   "execution_count": 18,
   "metadata": {},
   "outputs": [],
   "source": [
    "import redis"
   ]
  },
  {
   "cell_type": "code",
   "execution_count": 19,
   "metadata": {},
   "outputs": [],
   "source": [
    "r = redis.Redis(host=\"toukard.com\", port=6379, db=0)"
   ]
  },
  {
   "cell_type": "code",
   "execution_count": 32,
   "metadata": {},
   "outputs": [
    {
     "data": {
      "text/plain": [
       "True"
      ]
     },
     "execution_count": 32,
     "metadata": {},
     "output_type": "execute_result"
    }
   ],
   "source": [
    "r.set(\"dht11\" , \"test\")"
   ]
  },
  {
   "cell_type": "markdown",
   "metadata": {},
   "source": [
    "### PUBSUB between python and python"
   ]
  },
  {
   "cell_type": "code",
   "execution_count": 16,
   "metadata": {},
   "outputs": [],
   "source": [
    "r = redis.Redis(host=\"toukard.com\", port=6379, db=0)\n",
    "p = r.pubsub()"
   ]
  },
  {
   "cell_type": "code",
   "execution_count": 18,
   "metadata": {},
   "outputs": [],
   "source": [
    "p.subscribe(\"dht11\")"
   ]
  },
  {
   "cell_type": "code",
   "execution_count": null,
   "metadata": {},
   "outputs": [],
   "source": [
    "for m in p.listen():\n",
    "    print(m)"
   ]
  },
  {
   "cell_type": "code",
   "execution_count": 23,
   "metadata": {},
   "outputs": [
    {
     "data": {
      "text/plain": [
       "3"
      ]
     },
     "execution_count": 23,
     "metadata": {},
     "output_type": "execute_result"
    }
   ],
   "source": [
    "r.publish(\"dht11\", s)"
   ]
  },
  {
   "cell_type": "markdown",
   "metadata": {},
   "source": [
    "### transport"
   ]
  },
  {
   "cell_type": "code",
   "execution_count": 13,
   "metadata": {},
   "outputs": [],
   "source": [
    "import json"
   ]
  },
  {
   "cell_type": "code",
   "execution_count": 10,
   "metadata": {},
   "outputs": [],
   "source": [
    "di = ght.call()"
   ]
  },
  {
   "cell_type": "code",
   "execution_count": 14,
   "metadata": {},
   "outputs": [
    {
     "data": {
      "text/plain": [
       "'{\"t\": 0, \"h\": 0}'"
      ]
     },
     "execution_count": 14,
     "metadata": {},
     "output_type": "execute_result"
    }
   ],
   "source": [
    "s  = json.dumps(di)\n",
    "s"
   ]
  },
  {
   "cell_type": "markdown",
   "metadata": {},
   "source": [
    "### ELIXIR"
   ]
  },
  {
   "cell_type": "code",
   "execution_count": null,
   "metadata": {},
   "outputs": [],
   "source": [
    "{:ok, conn} = Redix.start_link(host: \"toukard,com\", port: 6379) #これはできているので省略できる\n",
    "{:ok, res} =  Redix.command(conn, [\"get\", \"dht11\"]) #これだけでよい"
   ]
  },
  {
   "cell_type": "code",
   "execution_count": null,
   "metadata": {},
   "outputs": [],
   "source": [
    "{:ok, pubsub} = Redix.PubSub.start_link(host: \"redis\", port: 6379, database: 0)\n",
    "{:ok, ref} = Redix.PubSub.subscribe(pubsub, \"dht11\", self())\n",
    "receive do\n",
    "  {:redix_pubsub, ^pubsub, ^ref, :message, %{channel: \"dht11\"} = properties} -> IO.inspect(properties.payload)\n",
    "end"
   ]
  },
  {
   "cell_type": "markdown",
   "metadata": {},
   "source": [
    "### FINAL"
   ]
  },
  {
   "cell_type": "code",
   "execution_count": 5,
   "metadata": {},
   "outputs": [],
   "source": [
    "#インポート\n",
    "import RPi.GPIO as GPIO\n",
    "import dht11\n",
    "import redis\n",
    "import json\n",
    "\n",
    "class ght_inst:\n",
    "    def __init__(self, pin):\n",
    "        self.humid = -1\n",
    "        self.temp = -1\n",
    "        self.inst = dht11.DHT11(pin = 23)\n",
    "\n",
    "    def measure(self):\n",
    "        result = self.inst.read()\n",
    "        self.humid = result.humidity\n",
    "        self.temp = result.temperature\n",
    "    \n",
    "    def call(self):\n",
    "        self.measure()\n",
    "        return json.dumps({\"t\" : self.temp, \"h\" : self.humid})\n",
    "\n",
    "class redis_inst:\n",
    "    def __init__(self, host, port=6379, db=0):\n",
    "        self.inst = redis.Redis(host=host, port=port, db=db)\n",
    "    def send(self, data, channel):\n",
    "        #json(stringを受け取る)\n",
    "        self.inst.publish(channel, data)"
   ]
  },
  {
   "cell_type": "code",
   "execution_count": 2,
   "metadata": {},
   "outputs": [],
   "source": [
    "GPIO.setwarnings(False)\n",
    "GPIO.setmode(GPIO.BCM)\n",
    "GPIO.cleanup()\n",
    "\n",
    "#インスタンス作成\n",
    "ght_instance = ght_inst(23)\n",
    "redis_instance = redis_inst(\"toukard.com\")\n",
    "channel = \"dht11\""
   ]
  },
  {
   "cell_type": "code",
   "execution_count": 6,
   "metadata": {},
   "outputs": [
    {
     "name": "stdout",
     "output_type": "stream",
     "text": [
      "{\"t\": 29.8, \"h\": 58.0}\n"
     ]
    },
    {
     "ename": "TypeError",
     "evalue": "send() takes 2 positional arguments but 3 were given",
     "output_type": "error",
     "traceback": [
      "\u001b[0;31m---------------------------------------------------------------------------\u001b[0m",
      "\u001b[0;31mTypeError\u001b[0m                                 Traceback (most recent call last)",
      "\u001b[1;32m/home/toukaaoi/dev_sensor/test.ipynb Cell 24\u001b[0m in \u001b[0;36m<cell line: 7>\u001b[0;34m()\u001b[0m\n\u001b[1;32m      <a href='vscode-notebook-cell://ssh-remote%2Brasb/home/toukaaoi/dev_sensor/test.ipynb#X41sdnNjb2RlLXJlbW90ZQ%3D%3D?line=3'>4</a>\u001b[0m \u001b[39mprint\u001b[39m(data)\n\u001b[1;32m      <a href='vscode-notebook-cell://ssh-remote%2Brasb/home/toukaaoi/dev_sensor/test.ipynb#X41sdnNjb2RlLXJlbW90ZQ%3D%3D?line=5'>6</a>\u001b[0m \u001b[39m#パブリッシュ\u001b[39;00m\n\u001b[0;32m----> <a href='vscode-notebook-cell://ssh-remote%2Brasb/home/toukaaoi/dev_sensor/test.ipynb#X41sdnNjb2RlLXJlbW90ZQ%3D%3D?line=6'>7</a>\u001b[0m redis_instance\u001b[39m.\u001b[39;49msend(channel, data)\n",
      "\u001b[0;31mTypeError\u001b[0m: send() takes 2 positional arguments but 3 were given"
     ]
    }
   ],
   "source": [
    "data = ght_instance.call()\n",
    "\n",
    "#デバッグ\n",
    "print(data)\n",
    "\n",
    "#パブリッシュ\n",
    "redis_instance.send(channel, data)\n"
   ]
  },
  {
   "cell_type": "code",
   "execution_count": 7,
   "metadata": {},
   "outputs": [
    {
     "data": {
      "text/plain": [
       "'{\"t\": 29.8, \"h\": 58.0}'"
      ]
     },
     "execution_count": 7,
     "metadata": {},
     "output_type": "execute_result"
    }
   ],
   "source": [
    "data"
   ]
  },
  {
   "cell_type": "code",
   "execution_count": 1,
   "metadata": {},
   "outputs": [
    {
     "name": "stdout",
     "output_type": "stream",
     "text": [
      "3\n",
      "3\n",
      "3\n"
     ]
    },
    {
     "ename": "KeyboardInterrupt",
     "evalue": "",
     "output_type": "error",
     "traceback": [
      "\u001b[0;31m---------------------------------------------------------------------------\u001b[0m",
      "\u001b[0;31mKeyboardInterrupt\u001b[0m                         Traceback (most recent call last)",
      "\u001b[1;32m/home/toukaaoi/dev_sensor/research/test.ipynb Cell 26\u001b[0m in \u001b[0;36m<cell line: 62>\u001b[0;34m()\u001b[0m\n\u001b[1;32m     <a href='vscode-notebook-cell://ssh-remote%2Brasb/home/toukaaoi/dev_sensor/research/test.ipynb#X34sdnNjb2RlLXJlbW90ZQ%3D%3D?line=59'>60</a>\u001b[0m         time\u001b[39m.\u001b[39msleep(\u001b[39m1\u001b[39m)\n\u001b[1;32m     <a href='vscode-notebook-cell://ssh-remote%2Brasb/home/toukaaoi/dev_sensor/research/test.ipynb#X34sdnNjb2RlLXJlbW90ZQ%3D%3D?line=61'>62</a>\u001b[0m \u001b[39mif\u001b[39;00m \u001b[39m__name__\u001b[39m \u001b[39m==\u001b[39m \u001b[39m\"\u001b[39m\u001b[39m__main__\u001b[39m\u001b[39m\"\u001b[39m:\n\u001b[0;32m---> <a href='vscode-notebook-cell://ssh-remote%2Brasb/home/toukaaoi/dev_sensor/research/test.ipynb#X34sdnNjb2RlLXJlbW90ZQ%3D%3D?line=62'>63</a>\u001b[0m     main()\n",
      "\u001b[1;32m/home/toukaaoi/dev_sensor/research/test.ipynb Cell 26\u001b[0m in \u001b[0;36mmain\u001b[0;34m()\u001b[0m\n\u001b[1;32m     <a href='vscode-notebook-cell://ssh-remote%2Brasb/home/toukaaoi/dev_sensor/research/test.ipynb#X34sdnNjb2RlLXJlbW90ZQ%3D%3D?line=57'>58</a>\u001b[0m \u001b[39mprint\u001b[39m(debug)\n\u001b[1;32m     <a href='vscode-notebook-cell://ssh-remote%2Brasb/home/toukaaoi/dev_sensor/research/test.ipynb#X34sdnNjb2RlLXJlbW90ZQ%3D%3D?line=58'>59</a>\u001b[0m \u001b[39m#1秒待\u001b[39;00m\n\u001b[0;32m---> <a href='vscode-notebook-cell://ssh-remote%2Brasb/home/toukaaoi/dev_sensor/research/test.ipynb#X34sdnNjb2RlLXJlbW90ZQ%3D%3D?line=59'>60</a>\u001b[0m time\u001b[39m.\u001b[39;49msleep(\u001b[39m1\u001b[39;49m)\n",
      "\u001b[0;31mKeyboardInterrupt\u001b[0m: "
     ]
    }
   ],
   "source": [
    "#! /usr/bin/python \n",
    "\n",
    "\n",
    "#インポート\n",
    "import sys\n",
    "#ユーザーのpipにパスを通す\n",
    "sys.path.append(\"/home/toukaaoi/.local/lib/python3.9/site-packages\")\n",
    "\n",
    "import RPi.GPIO as GPIO\n",
    "import redis\n",
    "import time \n",
    "import json\n",
    "import dht11\n",
    "\n",
    "\n",
    "class ght_inst:\n",
    "    def __init__(self, pin):\n",
    "        self.humid = -1\n",
    "        self.temp = -1\n",
    "        self.inst = dht11.DHT11(pin = 23)\n",
    "\n",
    "    def measure(self):\n",
    "        result = self.inst.read()\n",
    "        self.humid = result.humidity\n",
    "        self.temp = result.temperature\n",
    "    \n",
    "    def call(self):\n",
    "        self.measure()\n",
    "        return json.dumps({\"t\" : self.temp, \"h\" : self.humid})\n",
    "\n",
    "class redis_inst:\n",
    "    def __init__(self, host, port=6379, db=0):\n",
    "        self.inst = redis.Redis(host=host, port=port, db=db)\n",
    "    def send(self, channel, data):\n",
    "        #json(stringを受け取る)\n",
    "        return self.inst.publish(channel, data)\n",
    "\n",
    "\n",
    "def main():\n",
    "    # initialize GPIO\n",
    "    GPIO.setwarnings(False)\n",
    "    GPIO.setmode(GPIO.BCM)\n",
    "    GPIO.cleanup()\n",
    "\n",
    "    #インスタンス作成\n",
    "    ght_instance = ght_inst(23)\n",
    "    redis_instance = redis_inst(\"toukard.com\")\n",
    "    channel = \"dht11\"\n",
    "\n",
    "    #デーモン用\n",
    "    while (True):\n",
    "        #データ取得\n",
    "        data = ght_instance.call()\n",
    "        #デバッグ\n",
    "        #print(data)\n",
    "        #パブリッシュ\n",
    "        debug = redis_instance.send(channel, data)\n",
    "        print(debug)\n",
    "        #1秒待\n",
    "        time.sleep(1)\n",
    "\n",
    "if __name__ == \"__main__\":\n",
    "    main()"
   ]
  },
  {
   "cell_type": "code",
   "execution_count": 7,
   "metadata": {},
   "outputs": [
    {
     "ename": "AttributeError",
     "evalue": "'redis_inst' object has no attribute 'publish'",
     "output_type": "error",
     "traceback": [
      "\u001b[0;31m---------------------------------------------------------------------------\u001b[0m",
      "\u001b[0;31mAttributeError\u001b[0m                            Traceback (most recent call last)",
      "\u001b[1;32m/home/toukaaoi/dev_sensor/research/test.ipynb Cell 27\u001b[0m in \u001b[0;36m<cell line: 1>\u001b[0;34m()\u001b[0m\n\u001b[0;32m----> <a href='vscode-notebook-cell://ssh-remote%2Brasb/home/toukaaoi/dev_sensor/research/test.ipynb#X35sdnNjb2RlLXJlbW90ZQ%3D%3D?line=0'>1</a>\u001b[0m redis_instance\u001b[39m.\u001b[39;49mpublish(\u001b[39m\"\u001b[39m\u001b[39mhoge\u001b[39m\u001b[39m\"\u001b[39m, \u001b[39m\"\u001b[39m\u001b[39mhoge\u001b[39m\u001b[39m\"\u001b[39m)\n",
      "\u001b[0;31mAttributeError\u001b[0m: 'redis_inst' object has no attribute 'publish'"
     ]
    }
   ],
   "source": [
    "redis_instance.send()"
   ]
  }
 ],
 "metadata": {
  "kernelspec": {
   "display_name": "Python 3 (ipykernel)",
   "language": "python",
   "name": "python3"
  },
  "language_info": {
   "codemirror_mode": {
    "name": "ipython",
    "version": 3
   },
   "file_extension": ".py",
   "mimetype": "text/x-python",
   "name": "python",
   "nbconvert_exporter": "python",
   "pygments_lexer": "ipython3",
   "version": "3.9.2"
  },
  "orig_nbformat": 4
 },
 "nbformat": 4,
 "nbformat_minor": 2
}
